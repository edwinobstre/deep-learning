{
 "cells": [
  {
   "cell_type": "markdown",
   "metadata": {},
   "source": [
    "# Recurrent Neural Network\n",
    "\n",
    "In this task, we implement RNN cells to understand the computation of RNN. Then we build RNN with different cells for a language modeling task."
   ]
  },
  {
   "cell_type": "code",
   "execution_count": 1,
   "metadata": {},
   "outputs": [],
   "source": [
    "# As usual, a bit of setup\n",
    "import time\n",
    "import numpy as np\n",
    "import tensorflow as tf\n",
    "import matplotlib.pyplot as plt\n",
    "\n",
    "\n",
    "%matplotlib inline\n",
    "plt.rcParams['figure.figsize'] = (10.0, 8.0) # set default size of plots\n",
    "plt.rcParams['image.interpolation'] = 'nearest'\n",
    "plt.rcParams['image.cmap'] = 'gray'\n",
    "\n",
    "# for auto-reloading external modules\n",
    "# see http://stackoverflow.com/questions/1907993/autoreload-of-modules-in-ipython\n",
    "%load_ext autoreload\n",
    "%autoreload 2\n",
    "\n",
    "def rel_error(x, y):\n",
    "    \"\"\" returns relative error \"\"\"\n",
    "    return np.max(np.abs(x - y) / (np.maximum(1e-8, np.abs(x) + np.abs(y))))\n"
   ]
  },
  {
   "cell_type": "markdown",
   "metadata": {},
   "source": [
    "## Recurrent Neural Networks\n",
    "\n",
    "### A toy problem"
   ]
  },
  {
   "cell_type": "code",
   "execution_count": 2,
   "metadata": {},
   "outputs": [],
   "source": [
    "## Setup an example. Provide sizes and the input data. \n",
    "\n",
    "# set sizes \n",
    "time_steps = 5\n",
    "batch_size = 4\n",
    "input_size = 3\n",
    "hidden_size = 2\n",
    "\n",
    "# create input data with shape [batch_size, time_steps, num_features]\n",
    "np.random.seed(15009)\n",
    "input_data = np.random.rand(batch_size, time_steps, input_size).astype(np.float32)"
   ]
  },
  {
   "cell_type": "markdown",
   "metadata": {},
   "source": [
    "### Implement an RNN and a GRU with tensorflow"
   ]
  },
  {
   "cell_type": "code",
   "execution_count": 3,
   "metadata": {},
   "outputs": [
    {
     "name": "stdout",
     "output_type": "stream",
     "text": [
      "WARNING:tensorflow:From /Library/Frameworks/Python.framework/Versions/3.7/lib/python3.7/site-packages/tensorflow/python/framework/op_def_library.py:263: colocate_with (from tensorflow.python.framework.ops) is deprecated and will be removed in a future version.\n",
      "Instructions for updating:\n",
      "Colocations handled automatically by placer.\n",
      "WARNING:tensorflow:From <ipython-input-3-40b6cc66db36>:11: BasicRNNCell.__init__ (from tensorflow.python.ops.rnn_cell_impl) is deprecated and will be removed in a future version.\n",
      "Instructions for updating:\n",
      "This class is equivalent as tf.keras.layers.SimpleRNNCell, and will be replaced by that in Tensorflow 2.0.\n",
      "WARNING:tensorflow:From <ipython-input-3-40b6cc66db36>:19: dynamic_rnn (from tensorflow.python.ops.rnn) is deprecated and will be removed in a future version.\n",
      "Instructions for updating:\n",
      "Please use `keras.layers.RNN(cell)`, which is equivalent to this API\n",
      "WARNING:tensorflow:From <ipython-input-3-40b6cc66db36>:23: GRUCell.__init__ (from tensorflow.python.ops.rnn_cell_impl) is deprecated and will be removed in a future version.\n",
      "Instructions for updating:\n",
      "This class is equivalent as tf.keras.layers.GRUCell, and will be replaced by that in Tensorflow 2.0.\n"
     ]
    }
   ],
   "source": [
    "## Create an RNN model\n",
    "tf.reset_default_graph()\n",
    "tf.random.set_random_seed(15009)\n",
    "\n",
    "# initialize a state of zero for both RNN and GRU\n",
    "# 'state' is a tensor of shape [batch_size, hidden_size]\n",
    "init_state = np.zeros([batch_size, hidden_size]) \n",
    "initial_state = tf.Variable(init_state, dtype=tf.float32)\n",
    "\n",
    "# create a BasicRNNCell\n",
    "rnn_cell = tf.nn.rnn_cell.BasicRNNCell(hidden_size)\n",
    "\n",
    "\n",
    "# 'outputs' is a tensor of shape [batch_size, max_time, hidden_size]\n",
    "# RNN cell outputs the hidden state directly, so the output at each step is the hidden state at that step\n",
    "# final_state is the last state of the sequence. final_state == outputs[:, -1, :]\n",
    "rnn_outputs, rnn_final_state = tf.nn.dynamic_rnn(rnn_cell, input_data,\n",
    "                                   initial_state=initial_state,\n",
    "                                   dtype=tf.float32)\n",
    "\n",
    "\n",
    "# create a GRUCell\n",
    "gru_cell = tf.nn.rnn_cell.GRUCell(hidden_size)\n",
    "\n",
    "# 'outputs' is a tensor of shape [batch_size, time_steps, hidden_size]\n",
    "# Same as the basic RNN cell, final_state == outputs[:, -1, :]\n",
    "gru_outputs, gru_final_state = tf.nn.dynamic_rnn(gru_cell, input_data,\n",
    "                                   initial_state=initial_state,\n",
    "                                   dtype=tf.float32)\n",
    "\n",
    "\n",
    "\n",
    "# initialize variables\n",
    "init = tf.global_variables_initializer()\n",
    "session = tf.Session()\n",
    "session.run(init)\n",
    "\n",
    "# run the RNN model and get outputs and the final state\n",
    "tfrnn_outputs, tfrnn_final_state = session.run([rnn_outputs, rnn_final_state])\n",
    "\n",
    "# run the GRU model and get outputs and the final state\n",
    "tfgru_outputs, tfgru_final_state = session.run([gru_outputs, gru_final_state])"
   ]
  },
  {
   "cell_type": "markdown",
   "metadata": {},
   "source": [
    "### Read out parameters from RNN and GRU cells"
   ]
  },
  {
   "cell_type": "code",
   "execution_count": 4,
   "metadata": {},
   "outputs": [],
   "source": [
    "from rnn_param_helper import get_rnn_params, get_gru_params\n",
    "\n",
    "#################################################################################################\n",
    "# 0. Understand TF BasicRNN and GRU parameters (0 points)                                       #\n",
    "# Please read the code and documentation of get_rnn_params and get_gru_params to understand     #\n",
    "# what are these parameters. You will need to use these parameters in your own implementations  #\n",
    "# NO implementation is needed here.                                                             #\n",
    "#################################################################################################\n",
    "\n",
    "wt_h, wt_x, bias = get_rnn_params(rnn_cell, session)\n",
    "wtu_h, wtu_x, biasu, wtr_h, wtr_x, biasr, wtc_h, wtc_x, biasc = get_gru_params(gru_cell, session)\n",
    "\n"
   ]
  },
  {
   "cell_type": "markdown",
   "metadata": {},
   "source": [
    "### Numpy Implementation\n",
    "Implement your own RNN model with numpy. Your implementation needs to match the tensorflow calculation. "
   ]
  },
  {
   "cell_type": "code",
   "execution_count": 5,
   "metadata": {},
   "outputs": [
    {
     "name": "stdout",
     "output_type": "stream",
     "text": [
      "Difference between your RNN implementation and tf RNN 1.3522993435792944e-07\n",
      "Difference between your GRU implementation and tf GRU 5.917733469953998e-07\n"
     ]
    }
   ],
   "source": [
    "###############################################################################################\n",
    "# 1. Implementation (9 points)                                                                #\n",
    "# Implement your basic RNN and GRU RNN in implementations/rnn.py and compare them against the #\n",
    "# tensorflow functions                                                                        #\n",
    "###############################################################################################\n",
    "\n",
    "from implementations.rnn import rnn,gru\n",
    "\n",
    "# calculation from your own implemenation of a basic RNN\n",
    "nprnn_outputs, nprnn_final_state = rnn(wt_h, wt_x, bias, init_state, input_data)\n",
    "print(\"Difference between your RNN implementation and tf RNN\", \n",
    "                     rel_error(tfrnn_outputs, nprnn_outputs) + rel_error(tfrnn_final_state, nprnn_final_state))\n",
    "\n",
    "# calculation from your own implemenation of a GRU RNN\n",
    "npgru_outputs, npgru_final_state = gru(wtu_h, wtu_x, biasu, wtr_h, wtr_x, biasr, wtc_h, wtc_x, biasc, init_state, input_data)\n",
    "\n",
    "print(\"Difference between your GRU implementation and tf GRU\", \n",
    "      rel_error(tfgru_outputs, npgru_outputs) + rel_error(tfgru_final_state, npgru_final_state))\n"
   ]
  },
  {
   "cell_type": "markdown",
   "metadata": {},
   "source": [
    "### GRU includes RNN as a special case\n",
    "Can you assign a special set of parameters to GRU such that its outputs is almost the same as RNN?"
   ]
  },
  {
   "cell_type": "code",
   "execution_count": 6,
   "metadata": {},
   "outputs": [
    {
     "name": "stdout",
     "output_type": "stream",
     "text": [
      "Difference between RNN and a special GRU 0.0\n"
     ]
    }
   ],
   "source": [
    "# Assign some value to a parameter of GRU\n",
    "\n",
    "####################################################################################\n",
    "# 2. Setting GRU weights (4 points)                                                #\n",
    "# Get weights/bias from the basic RNN and set them to some GRU weights/bias        #\n",
    "# Then set some other parameter of GRU, then GRU recovers RNN.                     #\n",
    "####################################################################################\n",
    "session.run(gru_cell.weights[0].assign(np.zeros((5,4))))\n",
    "session.run(gru_cell.weights[1].assign(np.hstack((np.ones((2))*np.inf,np.ones((2))*-np.inf))))\n",
    "session.run(gru_cell.weights[2].assign(np.vstack((wt_x,wt_h))))\n",
    "session.run(gru_cell.weights[3].assign(bias))\n",
    "\n",
    "# outputs from the GRU with special parameters. \n",
    "updated_outputs = session.run(gru_outputs)\n",
    "\n",
    "# they are the same as the calculation from the basic RNN\n",
    "print(\"Difference between RNN and a special GRU\", rel_error(tfrnn_outputs, updated_outputs))"
   ]
  },
  {
   "cell_type": "markdown",
   "metadata": {},
   "source": [
    "## Long term dependency: forward\n",
    "\n",
    "In this experiment, you will see that the basic RNN model is hard to keep long term dependency"
   ]
  },
  {
   "cell_type": "code",
   "execution_count": 7,
   "metadata": {},
   "outputs": [
    {
     "name": "stderr",
     "output_type": "stream",
     "text": [
      "/Library/Frameworks/Python.framework/Versions/3.7/lib/python3.7/site-packages/matplotlib/figure.py:2362: UserWarning: This figure includes Axes that are not compatible with tight_layout, so results might be incorrect.\n",
      "  warnings.warn(\"This figure includes Axes that are not compatible \"\n"
     ]
    },
    {
     "data": {
      "image/png": "[encoded data removed]",
      "text/plain": [
       "<Figure size 432x288 with 6 Axes>"
      ]
     },
     "metadata": {
      "needs_background": "light"
     },
     "output_type": "display_data"
    },
    {
     "data": {
      "image/png": "[encoded data removed]",
      "text/plain": [
       "<Figure size 432x288 with 6 Axes>"
      ]
     },
     "metadata": {
      "needs_background": "light"
     },
     "output_type": "display_data"
    },
    {
     "data": {
      "image/png": "[encoded data removed]",
      "text/plain": [
       "<Figure size 432x288 with 6 Axes>"
      ]
     },
     "metadata": {
      "needs_background": "light"
     },
     "output_type": "display_data"
    }
   ],
   "source": [
    "from rnn_param_helper import set_rnn_params, set_gru_params\n",
    "\n",
    "# Create a larger problem\n",
    "\n",
    "# set sizes \n",
    "time_steps = 50\n",
    "batch_size = 100\n",
    "input_size = 5\n",
    "hidden_size = 8\n",
    "\n",
    "# create input data with shape [batch_size, time_steps, num_features]\n",
    "np.random.seed(15009)\n",
    "input_data = np.random.rand(batch_size, time_steps, input_size).astype(np.float32) - 0.5\n",
    "\n",
    "## Create an RNN model with GRU\n",
    "tf.reset_default_graph()\n",
    "tf.random.set_random_seed(15009)\n",
    "\n",
    "# copy the basic RNN and the GRU RNN above here: \n",
    "\n",
    "initial_state = tf.Variable(np.zeros([batch_size, hidden_size]), dtype=tf.float32)\n",
    "\n",
    "# create a BasicRNNCell\n",
    "rnn_cell = tf.nn.rnn_cell.BasicRNNCell(hidden_size)\n",
    "\n",
    "# create a GRUCell\n",
    "gru_cell = tf.nn.rnn_cell.GRUCell(hidden_size)\n",
    "\n",
    "###################################################################################################\n",
    "# 3. Apply TF RNN functions (2 points)                                                            #\n",
    "# Please use the tensorflow function for the basic RNN and the GRU RNN below to get their outputs #\n",
    "# from the larger problem. Basically you just need to copy some code above here.                  #\n",
    "###################################################################################################\n",
    "\n",
    "rnn_outputs, _ = tf.nn.dynamic_rnn(rnn_cell, input_data , initial_state = initial_state) # please complete this line and lines above\n",
    "gru_outputs, _ = tf.nn.dynamic_rnn(gru_cell, input_data , initial_state = initial_state) # please complete this line and lines above\n",
    "\n",
    "# initialize variables\n",
    "init = tf.global_variables_initializer()\n",
    "session = tf.Session()\n",
    "session.run(init)\n",
    "\n",
    "\n",
    "\n",
    "def show_hist_of_hidden_values(session, initial_state, state, title):\n",
    "    \"\"\"Set `initial_state` to different values and run the `state` value. Check differences between state  \n",
    "       values due to different initializations. If the model cannot capture long term dependency, then the \n",
    "       initialization does not have much effect to the value of `state` at a later time step. \n",
    "    \"\"\"\n",
    "    \n",
    "    batch_size, hiddens_size = state.get_shape()\n",
    "    \n",
    "    # intialize the model with different initial states and then calculate the final state\n",
    "    init_zero = np.zeros([batch_size, hidden_size])\n",
    "    session.run(initial_state.assign(init_zero))\n",
    "    state_zero_init = session.run(state)\n",
    "\n",
    "    init_rand1 = np.random.rand(batch_size, hidden_size)\n",
    "    session.run(initial_state.assign(init_rand1))\n",
    "    state_rand1_init = session.run(state)\n",
    "\n",
    "    init_rand2 = np.random.rand(batch_size, hidden_size)\n",
    "    session.run(initial_state.assign(init_rand2))\n",
    "    state_rand2_init = session.run(state)\n",
    "\n",
    "    init_scaleup1 = init_rand1 * 100\n",
    "    session.run(initial_state.assign(init_scaleup1))\n",
    "    state_scaleup1_init = session.run(state)\n",
    "\n",
    "    # plot the difference between the four difference settings\n",
    "    \n",
    "    # For each sequence, calculate the norm of the difference of the states from different initializations\n",
    "    norm_diff1 = np.linalg.norm(state_zero_init - state_rand1_init, axis=1)\n",
    "    norm_diff2 = np.linalg.norm(state_zero_init - state_rand2_init, axis=1)\n",
    "    norm_diff3 = np.linalg.norm(state_rand1_init - state_rand2_init, axis=1)\n",
    "    norm_diff4 = np.linalg.norm(state_scaleup1_init - state_zero_init, axis=1)\n",
    "    norm_diff5 = np.linalg.norm(state_scaleup1_init - state_rand1_init, axis=1)\n",
    "    norm_diff6 = np.linalg.norm(state_scaleup1_init - state_rand2_init, axis=1)\n",
    "\n",
    "    # plot the histogram of norms of differences\n",
    "    n_bins = 20\n",
    "    fig, axs = plt.subplots(2, 3, sharey=True, tight_layout=True)\n",
    "    plt.suptitle(title, fontsize=16)\n",
    "    \n",
    "    axs[0, 0].hist(norm_diff1, bins=n_bins)\n",
    "    axs[0, 1].hist(norm_diff2, bins=n_bins)\n",
    "    axs[0, 2].hist(norm_diff3, bins=n_bins)\n",
    "    axs[1, 0].hist(norm_diff4, bins=n_bins)\n",
    "    axs[1, 1].hist(norm_diff5, bins=n_bins)\n",
    "    axs[1, 2].hist(norm_diff6, bins=n_bins)\n",
    "    \n",
    "    \n",
    "\n",
    "    \n",
    "# set values for the basic RNN model\n",
    "\n",
    "# play with the scale, and see if you can find any value that achieves long-term memory\n",
    "scale = 2.0\n",
    "wt_h = (np.random.rand(hidden_size, hidden_size) - 0.5) * scale\n",
    "wt_x = (np.random.rand(input_size, hidden_size) - 0.5) * scale\n",
    "bias = (np.random.rand(hidden_size) - 0.5) * scale\n",
    "\n",
    "set_rnn_params(rnn_cell, session, wt_h, wt_x, bias)\n",
    "\n",
    "# get the 10th state and check its dependency on the initial state\n",
    "rnn_state10 = tf.transpose(rnn_outputs, [1, 0, 2])[10]\n",
    "show_hist_of_hidden_values(session, initial_state, rnn_state10, \n",
    "                           'Histogram of differences of state 10 with different initializations')\n",
    "\n",
    "# get the 20th state and check its dependency on the initial state\n",
    "rnn_state20 = tf.transpose(rnn_outputs, [1, 0, 2])[20]\n",
    "show_hist_of_hidden_values(session, initial_state, rnn_state20, \n",
    "                           'Histogram of differences of state 20 with different initializations')\n",
    "\n",
    "# get the 20th state and check its dependency on the initial state\n",
    "rnn_state30 = tf.transpose(rnn_outputs, [1, 0, 2])[30]\n",
    "show_hist_of_hidden_values(session, initial_state, rnn_state30, \n",
    "                           'Histogram of differences of state 30 with different initializations')\n"
   ]
  },
  {
   "cell_type": "code",
   "execution_count": 8,
   "metadata": {},
   "outputs": [
    {
     "data": {
      "image/png": "[encoded data removed]",
      "text/plain": [
       "<Figure size 432x288 with 6 Axes>"
      ]
     },
     "metadata": {
      "needs_background": "light"
     },
     "output_type": "display_data"
    },
    {
     "data": {
      "image/png": "[encoded data removed]",
      "text/plain": [
       "<Figure size 432x288 with 6 Axes>"
      ]
     },
     "metadata": {
      "needs_background": "light"
     },
     "output_type": "display_data"
    },
    {
     "data": {
      "image/png": "[encoded data removed]",
      "text/plain": [
       "<Figure size 432x288 with 6 Axes>"
      ]
     },
     "metadata": {
      "needs_background": "light"
     },
     "output_type": "display_data"
    }
   ],
   "source": [
    "# Can you set GRU parameters such that it maintains the initial state in the memory for long term? \n",
    "\n",
    "scale_gru = 5.0\n",
    "\n",
    "set_gru_params(gru_cell, session, biasu = -1e6)\n",
    "#########################################################################\n",
    "# 4. Setting GRU parameters (4 points)                                  #\n",
    "# Set GRU parameters here so that it can capture long term dependency   #\n",
    "#########################################################################\n",
    "\n",
    "# get the 10th state\n",
    "gru_state10 = tf.transpose(gru_outputs, [1, 0, 2])[10]\n",
    "show_hist_of_hidden_values(session,   initial_state, gru_state10, \n",
    "                           'Histogram of differences of state 10 with different initialization states')\n",
    "\n",
    "# get the 20th state\n",
    "gru_state20 = tf.transpose(gru_outputs, [1, 0, 2])[20]\n",
    "show_hist_of_hidden_values(session, initial_state, gru_state20,  \n",
    "                           'Histogram of differences of state 20 with different initialization states')\n",
    "\n",
    "# get the 20th state\n",
    "gru_state30 = tf.transpose(gru_outputs, [1, 0, 2])[30]\n",
    "show_hist_of_hidden_values(session,   initial_state, gru_state30,  \n",
    "                           'Histogram of differences of state 30 with different initialization states')\n",
    "\n"
   ]
  },
  {
   "cell_type": "markdown",
   "metadata": {},
   "source": [
    "### Backpropagation: vanishing gradients and exploding gradients\n",
    "\n",
    "In the experiment, you will observe vanishing gradients and exploding gradients"
   ]
  },
  {
   "cell_type": "code",
   "execution_count": 9,
   "metadata": {},
   "outputs": [
    {
     "data": {
      "image/png": "[encoded data removed]",
      "text/plain": [
       "<Figure size 432x288 with 1 Axes>"
      ]
     },
     "metadata": {
      "needs_background": "light"
     },
     "output_type": "display_data"
    }
   ],
   "source": [
    "# Calculate gradient with respect to the initial state\n",
    "\n",
    "# the gradient with respect to state 30 is [1, 1, ..., 1]. Propagate the gradient back through time\n",
    "rnn_loss30 = tf.reduce_sum(rnn_state30)\n",
    "rnn_gradh = tf.gradients([rnn_loss30], [initial_state])[0]\n",
    "\n",
    "scale = 0.1\n",
    "wt_h = (np.zeros((hidden_size, hidden_size))) * scale\n",
    "wt_x = (np.zeros((input_size, hidden_size))) * scale\n",
    "bias = (np.zeros((hidden_size))) * scale\n",
    "set_rnn_params(rnn_cell, session, wt_h, wt_x, bias)\n",
    "\n",
    "\n",
    "###############################################################################################\n",
    "# 5. Observe vanishing gradients (3 points)                                                   #\n",
    "# Try a different settings of the parameters and see if you still get vanishing gradients. ,  #\n",
    "###############################################################################################\n",
    "\n",
    "\n",
    "# show the norms of gradients. Most of them are zero. \n",
    "np_rnn_gradh = session.run(rnn_gradh)\n",
    "rnn_grad_norm = np.linalg.norm(np_rnn_gradh, axis=1)\n",
    "\n",
    "n_bins = 20\n",
    "_ = plt.hist(rnn_grad_norm, bins=n_bins)\n",
    "\n",
    "\n"
   ]
  },
  {
   "cell_type": "code",
   "execution_count": 10,
   "metadata": {},
   "outputs": [
    {
     "data": {
      "image/png": "[encoded data removed]",
      "text/plain": [
       "<Figure size 432x288 with 1 Axes>"
      ]
     },
     "metadata": {
      "needs_background": "light"
     },
     "output_type": "display_data"
    }
   ],
   "source": [
    "# Can you set GRU parameters such that the gradient does not vanish? \n",
    "\n",
    "# the gradient with respect to state 30 is [1, 1, ..., 1]. Propagate the gradient back through time\n",
    "gru_loss30 = tf.reduce_sum(gru_state30)\n",
    "gru_gradh = tf.gradients([gru_loss30], [initial_state])[0]\n",
    "\n",
    "scale = 1.0\n",
    "wt_h = (np.zeros((hidden_size, hidden_size))) * scale\n",
    "wt_x = (np.zeros((input_size, hidden_size))) * scale\n",
    "bias = (np.zeros((hidden_size))) * scale\n",
    "set_rnn_params(rnn_cell, session, wt_h, wt_x, bias)\n",
    "\n",
    "session.run(gru_cell.weights[0].assign(np.zeros((input_size+hidden_size,2*hidden_size))))\n",
    "session.run(gru_cell.weights[1].assign(np.hstack((np.ones((hidden_size))*np.inf,np.ones((hidden_size))*-np.inf))))\n",
    "\n",
    "\n",
    "\n",
    "###################################################################################\n",
    "# 6. GRU parameters that don't have vanishing gradients (3 points)                #\n",
    "# Set GRU parameters so that the gradient of a later state with respect to the    #\n",
    "# initial state is not near zero.                                                 #\n",
    "###################################################################################\n",
    "\n",
    "# show norms of gradients\n",
    "np_gru_gradh = session.run(gru_gradh)\n",
    "gru_grad_norm = np.linalg.norm(np_gru_gradh, axis=1)\n",
    "\n",
    "n_bins = 20\n",
    "_ = plt.hist(gru_grad_norm, bins=n_bins)\n",
    "\n",
    "\n"
   ]
  },
  {
   "cell_type": "code",
   "execution_count": null,
   "metadata": {},
   "outputs": [],
   "source": []
  }
 ],
 "metadata": {
  "kernelspec": {
   "display_name": "Python 3",
   "language": "python",
   "name": "python3"
  },
  "language_info": {
   "codemirror_mode": {
    "name": "ipython",
    "version": 3
   },
   "file_extension": ".py",
   "mimetype": "text/x-python",
   "name": "python",
   "nbconvert_exporter": "python",
   "pygments_lexer": "ipython3",
   "version": "3.7.0"
  }
 },
 "nbformat": 4,
 "nbformat_minor": 2
}
