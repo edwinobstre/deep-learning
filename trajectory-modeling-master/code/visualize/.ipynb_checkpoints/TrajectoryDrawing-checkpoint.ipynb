{
 "cells": [
  {
   "cell_type": "code",
   "execution_count": 4,
   "metadata": {},
   "outputs": [],
   "source": [
    "%matplotlib inline\n",
    "\n",
    "import matplotlib\n",
    "import numpy as np\n",
    "import matplotlib.pyplot as plt\n",
    "\n",
    "resolution = [3300, 3300]"
   ]
  },
  {
   "cell_type": "markdown",
   "metadata": {},
   "source": [
    "# draw trajectory function"
   ]
  },
  {
   "cell_type": "code",
   "execution_count": 12,
   "metadata": {},
   "outputs": [
    {
     "name": "stdout",
     "output_type": "stream",
     "text": [
      "[1573 -463]\n"
     ]
    }
   ],
   "source": [
    "class Point(object):\n",
    "    \n",
    "    def __init__(self, lat, lon, xpixel, ypixel):\n",
    "        self.lat = lat\n",
    "        self.lon = lon\n",
    "        self.xpixel = xpixel\n",
    "        self.ypixel = ypixel\n",
    "    \n",
    "    def get_coord(self):\n",
    "        return np.array([self.lat, self.lon])\n",
    "    \n",
    "    def get_pixel(self):\n",
    "        return np.array([self.xpixel, self.ypixel])\n",
    "\n",
    "        \n",
    "pnt_R = Point(42.34662, -71.00773, 3223, 1187)\n",
    "pnt_C = Point(42.324509, -71.109540, 1650, 1650)\n",
    "\n",
    "\n",
    "class coef_transform(object):\n",
    "    \n",
    "    def __init__(self, pntR, pntC):\n",
    "        self.pnt_one = pntR\n",
    "        self.pnt_two = pntC\n",
    "        self.delta_hor = 0.0\n",
    "        self.delta_ver = 0.0\n",
    "\n",
    "    def get_delta(self):\n",
    "        delta_coord = self.pnt_one.get_coord() - self.pnt_two.get_coord()\n",
    "        delta_pixel = self.pnt_one.get_pixel() - self.pnt_two.get_pixel()\n",
    "        print(delta_pixel)\n",
    "\n",
    "a = coef_transform(pnt_R, pnt_C)\n",
    "a.get_delta()"
   ]
  },
  {
   "cell_type": "code",
   "execution_count": null,
   "metadata": {},
   "outputs": [],
   "source": []
  }
 ],
 "metadata": {
  "kernelspec": {
   "display_name": "Python 3",
   "language": "python",
   "name": "python3"
  },
  "language_info": {
   "codemirror_mode": {
    "name": "ipython",
    "version": 3
   },
   "file_extension": ".py",
   "mimetype": "text/x-python",
   "name": "python",
   "nbconvert_exporter": "python",
   "pygments_lexer": "ipython3",
   "version": "3.6.8"
  }
 },
 "nbformat": 4,
 "nbformat_minor": 2
}
